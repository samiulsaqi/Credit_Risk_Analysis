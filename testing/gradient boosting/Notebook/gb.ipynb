{
 "cells": [
  {
   "cell_type": "code",
   "execution_count": 1,
   "metadata": {},
   "outputs": [],
   "source": [
    "# import dependencies\n",
    "import pandas as pd\n",
    "import numpy\n",
    "from path import Path\n",
    "file=Path(\"../Resources/loans_data_encoded.csv\")\n",
    "loans_df = pd.read_csv(file)\n",
    "loans_df"
   ]
  },
  {
   "cell_type": "code",
   "execution_count": 2,
   "metadata": {},
   "outputs": [],
   "source": [
    "#create features and target\n",
    "X=loans_df.copy()\n",
    "X=X.drop(\"bad\", axis=1)\n",
    "y=loans_df[\"bad\"].values"
   ]
  },
  {
   "cell_type": "code",
   "execution_count": 3,
   "metadata": {},
   "outputs": [],
   "source": [
    "#SPlitting into testing and training data\n",
    "from sklearn.model_selection import train_test_split\n",
    "from sklearn.preprocessing import StandardScaler\n",
    "X_train, X_test, y_train, y_test = train_test_split(X, y, random_state=1)"
   ]
  },
  {
   "cell_type": "code",
   "execution_count": 4,
   "metadata": {},
   "outputs": [],
   "source": [
    "#scaling the data\n",
    "scaler = StandardScaler()\n",
    "X_scaler = scaler.fit(X_train)\n",
    "X_train_scaled = X_scaler.transform(X_train)\n",
    "X_test_scaled = X_scaler.transform(X_test)"
   ]
  },
  {
   "cell_type": "code",
   "execution_count": 12,
   "metadata": {},
   "outputs": [
    {
     "name": "stdout",
     "output_type": "stream",
     "text": [
      "Learning Rate:  0.05\n",
      "Accuracy Score (training): 0.629\n",
      "Accuracy Score (validation): 0.512\n",
      "Learning Rate:  0.1\n",
      "Accuracy Score (training): 0.656\n",
      "Accuracy Score (validation): 0.520\n",
      "Learning Rate:  0.25\n",
      "Accuracy Score (training): 0.723\n",
      "Accuracy Score (validation): 0.536\n",
      "Learning Rate:  0.4\n",
      "Accuracy Score (training): 0.771\n",
      "Accuracy Score (validation): 0.568\n",
      "Learning Rate:  0.45\n",
      "Accuracy Score (training): 0.763\n",
      "Accuracy Score (validation): 0.544\n",
      "Learning Rate:  0.5\n",
      "Accuracy Score (training): 0.755\n",
      "Accuracy Score (validation): 0.560\n",
      "Learning Rate:  0.55\n",
      "Accuracy Score (training): 0.792\n",
      "Accuracy Score (validation): 0.496\n",
      "Learning Rate:  0.6\n",
      "Accuracy Score (training): 0.787\n",
      "Accuracy Score (validation): 0.512\n",
      "Learning Rate:  0.75\n",
      "Accuracy Score (training): 0.781\n",
      "Accuracy Score (validation): 0.520\n",
      "Learning Rate:  1\n",
      "Accuracy Score (training): 0.797\n",
      "Accuracy Score (validation): 0.472\n"
     ]
    }
   ],
   "source": [
    "#identify learning rate that yields best result\n",
    "\n",
    "from sklearn.ensemble import GradientBoostingClassifier\n",
    "\n",
    "learning_rates = [0.05,0.1,0.25,0.4,0.45,0.5,0.55,0.6,0.75,1]\n",
    "\n",
    "for learning_rate in learning_rates:\n",
    "    classifier = GradientBoostingClassifier(n_estimators = 20, \n",
    "                                            learning_rate = learning_rate,\n",
    "                                            max_features = 5,\n",
    "                                           max_depth= 3,\n",
    "                                           random_state=0)\n",
    "    classifier.fit(X_train_scaled, y_train)\n",
    "    print(\"Learning Rate: \", learning_rate)\n",
    "    print(\"Accuracy Score (training): {0:.3f}\".format(classifier.score(\n",
    "        X_train_scaled, y_train)))\n",
    "    print(\"Accuracy Score (validation): {0:.3f}\".format(classifier.score(\n",
    "        X_test_scaled, y_test)))"
   ]
  },
  {
   "cell_type": "code",
   "execution_count": 7,
   "metadata": {},
   "outputs": [
    {
     "data": {
      "text/plain": [
       "array([0, 0, 0, 1, 0, 1, 0, 0, 0, 0, 1, 0, 0, 0, 0, 0, 0, 0, 0, 0, 0, 1,\n",
       "       0, 0, 0, 0, 0, 0, 1, 1, 1, 0, 0, 1, 1, 0, 0, 0, 0, 0, 0, 0, 1, 1,\n",
       "       0, 0, 0, 0, 0, 0, 1, 0, 0, 1, 0, 0, 0, 0, 0, 1, 1, 0, 0, 1, 1, 0,\n",
       "       0, 1, 0, 0, 1, 0, 0, 0, 0, 0, 0, 0, 1, 0, 1, 1, 0, 0, 1, 0, 1, 0,\n",
       "       1, 1, 0, 0, 0, 0, 0, 1, 1, 0, 0, 0, 0, 1, 0, 0, 1, 0, 0, 0, 0, 1,\n",
       "       1, 0, 0, 0, 0, 0, 1, 1, 0, 0, 1, 0, 1, 0, 1], dtype=int64)"
      ]
     },
     "execution_count": 7,
     "metadata": {},
     "output_type": "execute_result"
    }
   ],
   "source": [
    "#based on the previous result, use learning rate of 0.5\n",
    "classifier = GradientBoostingClassifier(n_estimators=20,\n",
    "                                       max_features=5,\n",
    "                                       max_depth=3,\n",
    "                                       learning_rate= 0.5,\n",
    "                                       random_state=0)\n",
    "classifier.fit(X_train_scaled,y_train)\n",
    "predictions = classifier.predict(X_test_scaled)\n",
    "predictions"
   ]
  },
  {
   "cell_type": "code",
   "execution_count": 8,
   "metadata": {},
   "outputs": [
    {
     "name": "stdout",
     "output_type": "stream",
     "text": [
      "Accuracy Score: 0.56\n"
     ]
    }
   ],
   "source": [
    "from sklearn.metrics import confusion_matrix, accuracy_score, classification_report\n",
    "acc_score = accuracy_score(y_test, predictions)\n",
    "print(f\"Accuracy Score: {acc_score}\")"
   ]
  },
  {
   "cell_type": "code",
   "execution_count": 9,
   "metadata": {},
   "outputs": [
    {
     "data": {
      "text/html": [
       "<div>\n",
       "<style scoped>\n",
       "    .dataframe tbody tr th:only-of-type {\n",
       "        vertical-align: middle;\n",
       "    }\n",
       "\n",
       "    .dataframe tbody tr th {\n",
       "        vertical-align: top;\n",
       "    }\n",
       "\n",
       "    .dataframe thead th {\n",
       "        text-align: right;\n",
       "    }\n",
       "</style>\n",
       "<table border=\"1\" class=\"dataframe\">\n",
       "  <thead>\n",
       "    <tr style=\"text-align: right;\">\n",
       "      <th></th>\n",
       "      <th>Predicted 0</th>\n",
       "      <th>Predicted 1</th>\n",
       "    </tr>\n",
       "  </thead>\n",
       "  <tbody>\n",
       "    <tr>\n",
       "      <th>Actual 0</th>\n",
       "      <td>49</td>\n",
       "      <td>16</td>\n",
       "    </tr>\n",
       "    <tr>\n",
       "      <th>Actual 1</th>\n",
       "      <td>39</td>\n",
       "      <td>21</td>\n",
       "    </tr>\n",
       "  </tbody>\n",
       "</table>\n",
       "</div>"
      ],
      "text/plain": [
       "          Predicted 0  Predicted 1\n",
       "Actual 0           49           16\n",
       "Actual 1           39           21"
      ]
     },
     "metadata": {},
     "output_type": "display_data"
    }
   ],
   "source": [
    "cm = confusion_matrix(y_test,predictions)\n",
    "cm_df = pd.DataFrame(\n",
    "    cm,index=[\"Actual 0\", \"Actual 1\"],columns = [\"Predicted 0\", \"Predicted 1\"])\n",
    "display(cm_df)"
   ]
  },
  {
   "cell_type": "code",
   "execution_count": 10,
   "metadata": {},
   "outputs": [
    {
     "name": "stdout",
     "output_type": "stream",
     "text": [
      "Classification report\n",
      "              precision    recall  f1-score   support\n",
      "\n",
      "           0       0.56      0.75      0.64        65\n",
      "           1       0.57      0.35      0.43        60\n",
      "\n",
      "    accuracy                           0.56       125\n",
      "   macro avg       0.56      0.55      0.54       125\n",
      "weighted avg       0.56      0.56      0.54       125\n",
      "\n"
     ]
    }
   ],
   "source": [
    "print(\"Classification report\")\n",
    "print(classification_report(y_test, predictions))"
   ]
  },
  {
   "cell_type": "code",
   "execution_count": null,
   "metadata": {},
   "outputs": [],
   "source": []
  }
 ],
 "metadata": {
  "kernelspec": {
   "display_name": "mlenv",
   "language": "python",
   "name": "mlenv"
  },
  "language_info": {
   "codemirror_mode": {
    "name": "ipython",
    "version": 3
   },
   "file_extension": ".py",
   "mimetype": "text/x-python",
   "name": "python",
   "nbconvert_exporter": "python",
   "pygments_lexer": "ipython3",
   "version": "3.7.9"
  }
 },
 "nbformat": 4,
 "nbformat_minor": 4
}
