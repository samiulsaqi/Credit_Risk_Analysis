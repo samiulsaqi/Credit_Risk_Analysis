{
 "cells": [
  {
   "cell_type": "code",
   "execution_count": 1,
   "metadata": {},
   "outputs": [
    {
     "data": {
      "text/html": [
       "<div>\n",
       "<style scoped>\n",
       "    .dataframe tbody tr th:only-of-type {\n",
       "        vertical-align: middle;\n",
       "    }\n",
       "\n",
       "    .dataframe tbody tr th {\n",
       "        vertical-align: top;\n",
       "    }\n",
       "\n",
       "    .dataframe thead th {\n",
       "        text-align: right;\n",
       "    }\n",
       "</style>\n",
       "<table border=\"1\" class=\"dataframe\">\n",
       "  <thead>\n",
       "    <tr style=\"text-align: right;\">\n",
       "      <th></th>\n",
       "      <th>amount</th>\n",
       "      <th>term</th>\n",
       "      <th>age</th>\n",
       "      <th>bad</th>\n",
       "      <th>month_num</th>\n",
       "      <th>education_Bachelor</th>\n",
       "      <th>education_High School or Below</th>\n",
       "      <th>education_Master or Above</th>\n",
       "      <th>education_college</th>\n",
       "      <th>gender_female</th>\n",
       "      <th>gender_male</th>\n",
       "    </tr>\n",
       "  </thead>\n",
       "  <tbody>\n",
       "    <tr>\n",
       "      <th>0</th>\n",
       "      <td>1000</td>\n",
       "      <td>30</td>\n",
       "      <td>45</td>\n",
       "      <td>0</td>\n",
       "      <td>6</td>\n",
       "      <td>0</td>\n",
       "      <td>1</td>\n",
       "      <td>0</td>\n",
       "      <td>0</td>\n",
       "      <td>0</td>\n",
       "      <td>1</td>\n",
       "    </tr>\n",
       "    <tr>\n",
       "      <th>1</th>\n",
       "      <td>1000</td>\n",
       "      <td>30</td>\n",
       "      <td>50</td>\n",
       "      <td>0</td>\n",
       "      <td>7</td>\n",
       "      <td>1</td>\n",
       "      <td>0</td>\n",
       "      <td>0</td>\n",
       "      <td>0</td>\n",
       "      <td>1</td>\n",
       "      <td>0</td>\n",
       "    </tr>\n",
       "    <tr>\n",
       "      <th>2</th>\n",
       "      <td>1000</td>\n",
       "      <td>30</td>\n",
       "      <td>33</td>\n",
       "      <td>0</td>\n",
       "      <td>8</td>\n",
       "      <td>1</td>\n",
       "      <td>0</td>\n",
       "      <td>0</td>\n",
       "      <td>0</td>\n",
       "      <td>1</td>\n",
       "      <td>0</td>\n",
       "    </tr>\n",
       "    <tr>\n",
       "      <th>3</th>\n",
       "      <td>1000</td>\n",
       "      <td>15</td>\n",
       "      <td>27</td>\n",
       "      <td>0</td>\n",
       "      <td>9</td>\n",
       "      <td>0</td>\n",
       "      <td>0</td>\n",
       "      <td>0</td>\n",
       "      <td>1</td>\n",
       "      <td>0</td>\n",
       "      <td>1</td>\n",
       "    </tr>\n",
       "    <tr>\n",
       "      <th>4</th>\n",
       "      <td>1000</td>\n",
       "      <td>30</td>\n",
       "      <td>28</td>\n",
       "      <td>0</td>\n",
       "      <td>10</td>\n",
       "      <td>0</td>\n",
       "      <td>0</td>\n",
       "      <td>0</td>\n",
       "      <td>1</td>\n",
       "      <td>1</td>\n",
       "      <td>0</td>\n",
       "    </tr>\n",
       "  </tbody>\n",
       "</table>\n",
       "</div>"
      ],
      "text/plain": [
       "   amount  term  age  bad  month_num  education_Bachelor  \\\n",
       "0    1000    30   45    0          6                   0   \n",
       "1    1000    30   50    0          7                   1   \n",
       "2    1000    30   33    0          8                   1   \n",
       "3    1000    15   27    0          9                   0   \n",
       "4    1000    30   28    0         10                   0   \n",
       "\n",
       "   education_High School or Below  education_Master or Above  \\\n",
       "0                               1                          0   \n",
       "1                               0                          0   \n",
       "2                               0                          0   \n",
       "3                               0                          0   \n",
       "4                               0                          0   \n",
       "\n",
       "   education_college  gender_female  gender_male  \n",
       "0                  0              0            1  \n",
       "1                  0              1            0  \n",
       "2                  0              1            0  \n",
       "3                  1              0            1  \n",
       "4                  1              1            0  "
      ]
     },
     "execution_count": 1,
     "metadata": {},
     "output_type": "execute_result"
    }
   ],
   "source": [
    "import pandas as pd\n",
    "from path import Path\n",
    "\n",
    "file_path=Path(\"../Resources/loans_data_encoded.csv\")\n",
    "encoded_df = pd.read_csv(file_path)\n",
    "encoded_df.head()"
   ]
  },
  {
   "cell_type": "code",
   "execution_count": 2,
   "metadata": {},
   "outputs": [],
   "source": [
    "from sklearn.preprocessing import StandardScaler\n",
    "data_scaler = StandardScaler()"
   ]
  },
  {
   "cell_type": "code",
   "execution_count": 3,
   "metadata": {},
   "outputs": [
    {
     "data": {
      "text/plain": [
       "array([[ 0.49337687,  0.89789115,  2.28404253, -0.81649658, -0.16890147,\n",
       "        -0.39336295,  1.17997648, -0.08980265, -0.88640526, -0.42665337,\n",
       "         0.42665337],\n",
       "       [ 0.49337687,  0.89789115,  3.10658738, -0.81649658,  0.12951102,\n",
       "         2.54218146, -0.84747452, -0.08980265, -0.88640526,  2.34382305,\n",
       "        -2.34382305],\n",
       "       [ 0.49337687,  0.89789115,  0.3099349 , -0.81649658,  0.42792352,\n",
       "         2.54218146, -0.84747452, -0.08980265, -0.88640526,  2.34382305,\n",
       "        -2.34382305],\n",
       "       [ 0.49337687, -0.97897162, -0.67711892, -0.81649658,  0.72633602,\n",
       "        -0.39336295, -0.84747452, -0.08980265,  1.12815215, -0.42665337,\n",
       "         0.42665337],\n",
       "       [ 0.49337687,  0.89789115, -0.51260995, -0.81649658,  1.02474851,\n",
       "        -0.39336295, -0.84747452, -0.08980265,  1.12815215,  2.34382305,\n",
       "        -2.34382305]])"
      ]
     },
     "execution_count": 3,
     "metadata": {},
     "output_type": "execute_result"
    }
   ],
   "source": [
    "loan_scaled = data_scaler.fit_transform(encoded_df)\n",
    "loan_scaled[:5]"
   ]
  },
  {
   "cell_type": "code",
   "execution_count": 4,
   "metadata": {},
   "outputs": [
    {
     "name": "stdout",
     "output_type": "stream",
     "text": [
      "-3.552713678800501e-16\n",
      "0.9999999999999999\n"
     ]
    }
   ],
   "source": [
    "import numpy as np\n",
    "print(np.mean(loan_scaled[:,0]))\n",
    "print(np.std(loan_scaled[:,0]))"
   ]
  },
  {
   "cell_type": "code",
   "execution_count": 7,
   "metadata": {},
   "outputs": [
    {
     "data": {
      "text/plain": [
       "(500, 11)"
      ]
     },
     "execution_count": 7,
     "metadata": {},
     "output_type": "execute_result"
    }
   ],
   "source": [
    "loan_scaled.shape(0,)"
   ]
  },
  {
   "cell_type": "code",
   "execution_count": 14,
   "metadata": {},
   "outputs": [
    {
     "name": "stdout",
     "output_type": "stream",
     "text": [
      "The mean for col 0 is:  -3.552713678800501e-16\n",
      "The STD  for col 0 is:  0.9999999999999999\n",
      "The mean for col 1 is:  -1.7763568394002506e-16\n",
      "The STD  for col 1 is:  1.0\n",
      "The mean for col 2 is:  6.039613253960852e-17\n",
      "The STD  for col 2 is:  1.0\n",
      "The mean for col 3 is:  -5.684341886080802e-17\n",
      "The STD  for col 3 is:  0.9999999999999999\n",
      "The mean for col 4 is:  6.838973831690964e-17\n",
      "The STD  for col 4 is:  1.0\n",
      "The mean for col 5 is:  -4.263256414560601e-17\n",
      "The STD  for col 5 is:  1.0\n",
      "The mean for col 6 is:  1.2168044349891717e-16\n",
      "The STD  for col 6 is:  0.9999999999999999\n",
      "The mean for col 7 is:  -1.0658141036401503e-17\n",
      "The STD  for col 7 is:  1.0000000000000004\n",
      "The mean for col 8 is:  2.842170943040401e-17\n",
      "The STD  for col 8 is:  1.0\n",
      "The mean for col 9 is:  -2.842170943040401e-17\n",
      "The STD  for col 9 is:  1.0\n",
      "The mean for col 10 is:  3.907985046680551e-17\n",
      "The STD  for col 10 is:  1.0\n"
     ]
    }
   ],
   "source": [
    "for col in range(loan_scaled.shape[1]):\n",
    "    print(f\"The mean for col\",col,\"is: \", np.mean(loan_scaled[:,col]))\n",
    "    print(f\"The STD  for col\",col,\"is: \", np.std(loan_scaled[:,col]))"
   ]
  },
  {
   "cell_type": "code",
   "execution_count": null,
   "metadata": {},
   "outputs": [],
   "source": []
  }
 ],
 "metadata": {
  "kernelspec": {
   "display_name": "mlenv",
   "language": "python",
   "name": "mlenv"
  },
  "language_info": {
   "codemirror_mode": {
    "name": "ipython",
    "version": 3
   },
   "file_extension": ".py",
   "mimetype": "text/x-python",
   "name": "python",
   "nbconvert_exporter": "python",
   "pygments_lexer": "ipython3",
   "version": "3.7.9"
  }
 },
 "nbformat": 4,
 "nbformat_minor": 4
}
